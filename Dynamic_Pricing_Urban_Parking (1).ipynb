{
 "cells": [
  {
   "cell_type": "code",
   "execution_count": null,
   "metadata": {
    "id": "l_I4DhlE6Rpb"
   },
   "outputs": [],
   "source": [
    "!pip install pathway bokeh --quiet"
   ]
  },
  {
   "cell_type": "code",
   "execution_count": null,
   "metadata": {
    "id": "PX8m0fth6WQc"
   },
   "outputs": [],
   "source": [
    "import warnings\n",
    "warnings.filterwarnings(\"ignore\", category=UserWarning, module='bokeh')"
   ]
  },
  {
   "cell_type": "code",
   "execution_count": null,
   "metadata": {
    "id": "pNJCqkX16f0b"
   },
   "outputs": [],
   "source": [
    "import numpy as np\n",
    "import pandas as pd\n",
    "import matplotlib.pyplot as plt\n",
    "import seaborn as sns\n",
    "import datetime\n",
    "from datetime import datetime\n",
    "import pathway as pw\n",
    "import bokeh.plotting\n",
    "import panel as pn\n",
    "\n"
   ]
  },
  {
   "cell_type": "code",
   "execution_count": null,
   "metadata": {
    "colab": {
     "base_uri": "https://localhost:8080/",
     "height": 443
    },
    "id": "f7F9WnTj6i3a",
    "outputId": "4e9e93ce-0713-4cd5-c446-6109cbe10360"
   },
   "outputs": [],
   "source": [
    "df = pd.read_csv('/dataset.csv')\n",
    "df"
   ]
  },
  {
   "cell_type": "code",
   "execution_count": null,
   "metadata": {
    "colab": {
     "base_uri": "https://localhost:8080/",
     "height": 460
    },
    "id": "HLTDqpk_6vRA",
    "outputId": "801ac0f3-9dea-4b4b-b948-5586996b81b9"
   },
   "outputs": [],
   "source": [
    "df.isna().sum()\n"
   ]
  },
  {
   "cell_type": "code",
   "execution_count": null,
   "metadata": {
    "id": "kj-QSRQm6z9E"
   },
   "outputs": [],
   "source": [
    "df['Timestamp'] = pd.to_datetime(df['LastUpdatedDate'] + ' ' + df['LastUpdatedTime'],format='%d-%m-%Y %H:%M:%S')\n",
    "\n",
    "df = df.sort_values('Timestamp').reset_index(drop=True)\n"
   ]
  },
  {
   "cell_type": "code",
   "execution_count": null,
   "metadata": {
    "colab": {
     "base_uri": "https://localhost:8080/",
     "height": 790
    },
    "id": "eAvdNNbt63Ke",
    "outputId": "f360d0f3-66e9-43d1-f6d7-7546fd59b1f4"
   },
   "outputs": [],
   "source": [
    "df[\"OccupancyRate\"] = df[\"Occupancy\"] / df[\"Capacity\"]\n",
    "df"
   ]
  },
  {
   "cell_type": "code",
   "execution_count": null,
   "metadata": {
    "id": "1fuoALqQ675_"
   },
   "outputs": [],
   "source": [
    "df[[\"SystemCodeNumber\",\"Timestamp\", \"Occupancy\", \"Capacity\", \"QueueLength\", \"TrafficConditionNearby\", \"IsSpecialDay\", \"VehicleType\"]].to_csv(\"parking_stream.csv\", index=False)\n"
   ]
  },
  {
   "cell_type": "code",
   "execution_count": null,
   "metadata": {
    "id": "552JgUw87Aea"
   },
   "outputs": [],
   "source": [
    "class ParkingSchema(pw.Schema):\n",
    "    SystemCodeNumber: str\n",
    "    Timestamp: str\n",
    "    Occupancy: int\n",
    "    Capacity: int\n",
    "    QueueLength: int\n",
    "    TrafficConditionNearby: str\n",
    "    IsSpecialDay: bool\n",
    "    VehicleType: str"
   ]
  },
  {
   "cell_type": "code",
   "execution_count": null,
   "metadata": {
    "id": "uLSMY0qp7DpY"
   },
   "outputs": [],
   "source": [
    "data = pw.demo.replay_csv(\"parking_stream.csv\", schema=ParkingSchema, input_rate=100)\n"
   ]
  },
  {
   "cell_type": "code",
   "execution_count": null,
   "metadata": {
    "id": "zRUTstaw7GiS"
   },
   "outputs": [],
   "source": [
    "@pw.udf\n",
    "def traffic_to_level(traffic: str) -> int:\n",
    "    return {\"low\": 0, \"average\": 1, \"high\": 2}.get(traffic, 1)\n",
    "\n",
    "@pw.udf\n",
    "def vehicle_factor(vtype: str) -> int:\n",
    "    return {\"cycle\": 0, \"bike\": 1, \"car\": 2, \"truck\": 3}.get(vtype, 1)\n",
    "\n",
    "\n",
    "fmt = \"%Y-%m-%d %H:%M:%S\"\n",
    "\n",
    "data_with_time = data.with_columns(\n",
    "    t = data.Timestamp.dt.strptime(fmt),\n",
    "    day = data.Timestamp.dt.strptime(fmt).dt.strftime(\"%Y-%m-%dT00:00:00\"),\n",
    "    OccupancyRate = data.Occupancy / data.Capacity,\n",
    "    TrafficLevel = traffic_to_level(data.TrafficConditionNearby),\n",
    "    VehicleFactor = vehicle_factor(data.VehicleType),\n",
    "    IsSpecialDay = data.IsSpecialDay,\n",
    "    QueueLength = data.QueueLength,\n",
    "    lot = data.SystemCodeNumber,\n",
    "    instance = data.Timestamp.dt.strptime(fmt).dt.strftime(\"%Y-%m-%d\") + \"_\" + data.SystemCodeNumber\n",
    ")\n"
   ]
  },
  {
   "cell_type": "code",
   "execution_count": null,
   "metadata": {
    "id": "R4RzNLyi7KYL"
   },
   "outputs": [],
   "source": [
    "@pw.udf\n",
    "def compute_demand(occ: float, queue: float, traffic: float, special: bool, vehicle: float) -> float:\n",
    "    α, β, γ, δ, ε = 5, 0.4, 1.5, 2, 1\n",
    "    demand = α * occ + β * queue - γ * traffic + δ * int(special) + ε * vehicle\n",
    "    return demand\n"
   ]
  },
  {
   "cell_type": "code",
   "execution_count": null,
   "metadata": {
    "id": "K_MRXhXH7NRB"
   },
   "outputs": [],
   "source": [
    "@pw.udf\n",
    "def compute_price(base: float, demand: float, max_demand: float = 50.0, λ: float = 0.2) -> float:\n",
    "    norm_demand = min(demand / max_demand, 1.0)\n",
    "    raw_price = base * (1 + λ * norm_demand)\n",
    "    return max(0.5 * base, min(raw_price, 2.0 * base))\n"
   ]
  },
  {
   "cell_type": "code",
   "execution_count": null,
   "metadata": {
    "id": "8JDfewLm7Py0"
   },
   "outputs": [],
   "source": [
    "\n",
    "import datetime\n",
    "\n",
    "reduced = (\n",
    "    data_with_time.windowby(\n",
    "        pw.this.t,\n",
    "        instance=pw.this.instance,\n",
    "        window=pw.temporal.tumbling(datetime.timedelta(days=1)),\n",
    "        behavior=pw.temporal.exactly_once_behavior()\n",
    "    )\n",
    "    .reduce(\n",
    "        t = pw.this._pw_window_end,\n",
    "        occ_sum = pw.reducers.sum(pw.this.OccupancyRate),\n",
    "        queue_sum = pw.reducers.sum(pw.this.QueueLength),\n",
    "        traffic_sum = pw.reducers.sum(pw.this.TrafficLevel),\n",
    "        vehicle_sum = pw.reducers.sum(pw.this.VehicleFactor),\n",
    "        special_any = pw.reducers.max(pw.this.IsSpecialDay),\n",
    "        n = pw.reducers.count(),\n",
    "        lot = pw.reducers.min(pw.this.lot)\n",
    "    )\n",
    "    .with_columns(\n",
    "        occ_avg = pw.this.occ_sum / pw.this.n,\n",
    "        queue_avg = pw.this.queue_sum / pw.this.n,\n",
    "        traffic_avg = pw.this.traffic_sum / pw.this.n,\n",
    "        vehicle_avg = pw.this.vehicle_sum / pw.this.n\n",
    "    )\n",
    ")\n"
   ]
  },
  {
   "cell_type": "code",
   "execution_count": null,
   "metadata": {
    "id": "l1ZBI02H8hGm"
   },
   "outputs": [],
   "source": [
    "delta_window = reduced.with_columns(\n",
    "    demand = compute_demand(\n",
    "        reduced.occ_avg,\n",
    "        reduced.queue_avg,\n",
    "        reduced.traffic_avg,\n",
    "        reduced.special_any,\n",
    "        reduced.vehicle_avg\n",
    "    )\n",
    ")\n",
    "\n",
    "delta_window = delta_window.with_columns(\n",
    "    price = compute_price(10.0, delta_window.demand)\n",
    ")"
   ]
  },
  {
   "cell_type": "code",
   "execution_count": null,
   "metadata": {
    "colab": {
     "base_uri": "https://localhost:8080/",
     "height": 692
    },
    "id": "KbtZ3Tzw8qdz",
    "outputId": "a9bd8c2b-2b07-4ca0-906d-317490bfe470"
   },
   "outputs": [],
   "source": [
    "pn.extension()\n",
    "\n",
    "def price_plotter(source):\n",
    "    import pandas as pd\n",
    "    from bokeh.plotting import figure\n",
    "    from bokeh.models import ColumnDataSource\n",
    "    from bokeh.palettes import Category10_10 as palette\n",
    "\n",
    "    df = pd.DataFrame(source.data)\n",
    "    df[\"t\"] = pd.to_datetime(df[\"t\"])\n",
    "    df[\"lot\"] = df[\"lot\"].astype(str)\n",
    "\n",
    "    fig = figure(\n",
    "        height=500,\n",
    "        width=900,\n",
    "        title=\"Daily Pricing Across Parking Lots\",\n",
    "        x_axis_type=\"datetime\"\n",
    "    )\n",
    "\n",
    "    for i, lot in enumerate(sorted(df[\"lot\"].unique())):\n",
    "        df_lot = df[df[\"lot\"] == lot]\n",
    "        source_lot = ColumnDataSource(df_lot)\n",
    "\n",
    "        fig.line(\"t\", \"price\", source=source_lot,\n",
    "                 legend_label=f\"Lot {lot}\",\n",
    "                 line_width=2,\n",
    "                 color=palette[i % len(palette)])\n",
    "\n",
    "    fig.legend.location = \"top_left\"\n",
    "    fig.xaxis.axis_label = \"Time\"\n",
    "    fig.yaxis.axis_label = \"Price ($)\"\n",
    "\n",
    "\n",
    "    return fig\n",
    "\n",
    "viz = delta_window.plot(price_plotter, sorting_col=\"t\")\n",
    "pn.Column(viz).servable()\n"
   ]
  },
  {
   "cell_type": "code",
   "execution_count": null,
   "metadata": {
    "colab": {
     "base_uri": "https://localhost:8080/",
     "height": 69,
     "referenced_widgets": [
      "450f4ef511db4e758d3895774d97df39",
      "5b93772370904770ba80631d56069677"
     ]
    },
    "id": "ePFZBg6f8t8x",
    "outputId": "d05dbde7-cf08-4792-960f-71b15a1918c5"
   },
   "outputs": [],
   "source": [
    "pw.io.jsonlines.write(\n",
    "    delta_window.select(pw.this.t,pw.this.lot,pw.this.price),\n",
    "    \"pricing_output.jsonl\",\n",
    ")\n",
    "pw.run()"
   ]
  },
  {
   "cell_type": "code",
   "execution_count": null,
   "metadata": {
    "colab": {
     "base_uri": "https://localhost:8080/",
     "height": 356
    },
    "id": "SAhY2Jb588fo",
    "outputId": "bd4867ce-f195-4c80-e073-8fba15d70646"
   },
   "outputs": [],
   "source": [
    "from bokeh.plotting import figure, output_file, save , output_file\n",
    "from bokeh.models import ColumnDataSource\n",
    "from bokeh.layouts import column\n",
    "from bokeh.palettes import Category10_10 as palette\n",
    "from datetime import datetime\n",
    "from bokeh.models import Legend\n",
    "\n",
    "df = pd.read_json(\"pricing_output.jsonl\", lines=True)\n",
    "\n",
    "df[\"t\"] = pd.to_datetime(df[\"t\"])\n",
    "df[\"lot\"] = df[\"lot\"].astype(str)\n",
    "\n",
    "fig = figure(\n",
    "    height=500,\n",
    "    width=900,\n",
    "    title=\"Daily Pricing Across Parking Lots\",\n",
    "    x_axis_type=\"datetime\"\n",
    ")\n",
    "\n",
    "lots = sorted(df[\"lot\"].unique())\n",
    "for i, lot in enumerate(lots):\n",
    "    df_lot = df[df[\"lot\"] == lot]\n",
    "    source = ColumnDataSource(df_lot)\n",
    "\n",
    "    fig.line(\"t\", \"price\", source=source, legend_label=f\"Lot {lot}\",\n",
    "             color=palette[i % len(palette)], line_width=2)\n",
    "\n",
    "fig.xaxis.axis_label = \"Time\"\n",
    "fig.yaxis.axis_label = \"Price ($)\"\n",
    "fig.add_layout(fig.legend[0], 'right')\n",
    "fig.legend.label_text_font_size = \"8pt\"\n",
    "\n",
    "output_file(\"lot_wise_comparision.html\")\n",
    "save(fig)\n"
   ]
  },
  {
   "cell_type": "code",
   "execution_count": null,
   "metadata": {
    "id": "9ehb5wGb9Adi"
   },
   "outputs": [],
   "source": [
    "from bokeh.palettes import Category10_10\n",
    "df = pd.read_json(\"pricing_output.jsonl\", lines=True)\n",
    "df[\"t\"] = pd.to_datetime(df[\"t\"])\n",
    "df[\"lot\"] = df[\"lot\"].astype(str)\n",
    "\n",
    "plots = []\n",
    "palette = Category10_10\n",
    "\n",
    "for i, lot in enumerate(sorted(df[\"lot\"].unique())):\n",
    "    df_lot = df[df[\"lot\"] == lot]\n",
    "    source = ColumnDataSource(df_lot)\n",
    "\n",
    "    p = figure(\n",
    "        height=300,\n",
    "        width=800,\n",
    "        title=f\"Daily Price: Lot {lot}\",\n",
    "        x_axis_type=\"datetime\"\n",
    "    )\n",
    "    p.line(\"t\", \"price\", source=source,\n",
    "           line_width=2, color=palette[i % len(palette)])\n",
    "    p.scatter(\"t\", \"price\", source=source, size=5, marker=\"circle\", color=\"black\")\n",
    "\n",
    "    p.xaxis.axis_label = \"Time\"\n",
    "    p.yaxis.axis_label = \"Price ($)\"\n",
    "    plots.append(p)\n",
    "\n",
    "output_file(\"all_lots_prices_model2.html\")\n",
    "save(column(*plots))\n"
   ]
  },
  {
   "cell_type": "code",
   "execution_count": null,
   "metadata": {
    "id": "vlUzLAWk9Dhd"
   },
   "outputs": [],
   "source": []
  }
 ],
 "metadata": {
  "colab": {
   "provenance": []
  },
  "kernelspec": {
   "display_name": "Python 3 (ipykernel)",
   "language": "python",
   "name": "python3"
  },
  "language_info": {
   "codemirror_mode": {
    "name": "ipython",
    "version": 3
   },
   "file_extension": ".py",
   "mimetype": "text/x-python",
   "name": "python",
   "nbconvert_exporter": "python",
   "pygments_lexer": "ipython3",
   "version": "3.12.7"
  },
  "widgets": {
   "application/vnd.jupyter.widget-state+json": {
    "450f4ef511db4e758d3895774d97df39": {
     "model_module": "@jupyter-widgets/output",
     "model_module_version": "1.0.0",
     "model_name": "OutputModel",
     "state": {
      "_dom_classes": [],
      "_model_module": "@jupyter-widgets/output",
      "_model_module_version": "1.0.0",
      "_model_name": "OutputModel",
      "_view_count": null,
      "_view_module": "@jupyter-widgets/output",
      "_view_module_version": "1.0.0",
      "_view_name": "OutputView",
      "layout": "IPY_MODEL_5b93772370904770ba80631d56069677",
      "msg_id": "",
      "outputs": [
       {
        "data": {
         "text/html": "<pre style=\"white-space:pre;overflow-x:auto;line-height:normal;font-family:Menlo,'DejaVu Sans Mono',consolas,'Courier New',monospace\">                                            PATHWAY PROGRESS DASHBOARD                                             \n                                                                                                                   \n   <span style=\"font-weight: bold\">             </span> <span style=\"font-weight: bold\">        no. </span> <span style=\"font-weight: bold\">             </span> <span style=\"font-weight: bold\">            </span>  <span style=\"font-weight: bold\">          </span> <span style=\"font-weight: bold\">  latency </span> <span style=\"font-weight: bold\">          </span> <span style=\"font-weight: bold\">          </span> <span style=\"font-weight: bold\">          </span>   \n   <span style=\"font-weight: bold\">             </span> <span style=\"font-weight: bold\">   messages </span> <span style=\"font-weight: bold\">             </span> <span style=\"font-weight: bold\">            </span>  <span style=\"font-weight: bold\">          </span> <span style=\"font-weight: bold\">  to wall </span> <span style=\"font-weight: bold\">   lag to </span> <span style=\"font-weight: bold\">          </span> <span style=\"font-weight: bold\">          </span>   \n   <span style=\"font-weight: bold\">             </span> <span style=\"font-weight: bold\">     in the </span> <span style=\"font-weight: bold\">             </span> <span style=\"font-weight: bold\">            </span>  <span style=\"font-weight: bold\">          </span> <span style=\"font-weight: bold\">    clock </span> <span style=\"font-weight: bold\">    input </span> <span style=\"font-weight: bold\">    total </span> <span style=\"font-weight: bold\">  current </span>   \n   <span style=\"font-weight: bold\">             </span> <span style=\"font-weight: bold\">       last </span> <span style=\"font-weight: bold\"> in the last </span> <span style=\"font-weight: bold\">      since </span>  <span style=\"font-weight: bold\"> operator </span> <span style=\"font-weight: bold\">     [ms] </span> <span style=\"font-weight: bold\">     [ms] </span> <span style=\"font-weight: bold\">     rows </span> <span style=\"font-weight: bold\">     rows </span>   \n   <span style=\"font-weight: bold\"> connector   </span> <span style=\"font-weight: bold\">  minibatch </span> <span style=\"font-weight: bold\">      minute </span> <span style=\"font-weight: bold\">      start </span>  ──────────────────────────────────────────────────────   \n   ─────────────────────────────────────────────────────   input            76                                     \n    PythonRead…     finished             0          502    output          188        112                          \n    PythonRead…     finished             0          518                                                            \n    PythonRead…            0          5658        18356  <span style=\"color: #7f7f7f; text-decoration-color: #7f7f7f; font-style: italic\">   Above you can see the latency of input and output    </span>  \n                                                         <span style=\"color: #7f7f7f; text-decoration-color: #7f7f7f; font-style: italic\">  operators. The latency is measured as the difference  </span>  \n                                                         <span style=\"color: #7f7f7f; text-decoration-color: #7f7f7f; font-style: italic\"> between the time when the operator processed the data  </span>  \n                                                         <span style=\"color: #7f7f7f; text-decoration-color: #7f7f7f; font-style: italic\">      and the time when pathway acquired the data.      </span>  \n                                                                                                                   \n                                                                                                                   \n                                                                                                                   \n                                                                                                                   \n                                                                                                                   \n                                                                                                                   \n                                                                                                                   \n                                                                                                                   \n                                                                                                                   \n                                                                                                                   \n                                                                                                                   \n                                                                                                                   \n                                                                                                                   \n                                                                                                                   \n                                                                                                                   \n                                                                                                                   \n                                                                                                                   \n                                                                                                                   \n                                                                                                                   \n                                                                                                                   \n                                                                                                                   \n                                                                                                                   \n                                                                                                                   \n                                                                                                                   \n                                                                                                                   \n                                                                                                                   \n                                                                                                                   \n                                                                                                                   \n                                                                                                                   \n                                                                                                                   \n                                                                                                                   \n                                                                                                                   \n                                                                                                                   \n                                                                                                                   \n                                                                                                                   \n                                                                                                                   \n                                                       LOGS                                                        \n  <span style=\"color: #7fbfbf; text-decoration-color: #7fbfbf\">[07/08/25 03:29:33] </span><span style=\"color: #808000; text-decoration-color: #808000\">WARNING </span> PythonReader: Closing the data source                                               \n  <span style=\"color: #7fbfbf; text-decoration-color: #7fbfbf\">                    </span><span style=\"color: #808000; text-decoration-color: #808000\">WARNING </span> PythonReader: Closing the data source                                               \n  <span style=\"color: #7fbfbf; text-decoration-color: #7fbfbf\">                    </span><span style=\"color: #808000; text-decoration-color: #808000\">WARNING </span> PythonReader: Closing the data source                                               \n                                                                                                                   \n                                                                                                                   \n                                                                                                                   \n                                                                                                                   \n                                                                                                                   \n                                                                                                                   \n                                                                                                                   \n                                                                                                                   \n                                                                                                                   \n                                                                                                                   \n                                                                                                                   \n                                                                                                                   \n                                                                                                                   \n                                                                                                                   \n                                                                                                                   \n                                                                                                                   \n                                                                                                                   \n                                                                                                                   \n                                                                                                                   \n                                                                                                                   \n                                                                                                                   \n                                                                                                                   \n                                                                                                                   \n                                                                                                                   \n                                                                                                                   \n                                                                                                                   \n                                                                                                                   \n                                                                                                                   \n                                                                                                                   \n                                                                                                                   \n                                                                                                                   \n                                                                                                                   \n                                                                                                                   \n                                                                                                                   \n                                                                                                                   \n                                                                                                                   \n                                                                                                                   \n                                                                                                                   \n                                                                                                                   \n                                                                                                                   \n                                                                                                                   \n                                                                                                                   \n                                                                                                                   \n                                                                                                                   \n                                                                                                                   \n                                                                                                                   \n</pre>\n",
         "text/plain": "                                            PATHWAY PROGRESS DASHBOARD                                             \n                                                                                                                   \n   \u001b[1m             \u001b[0m \u001b[1m \u001b[0m\u001b[1m       no.\u001b[0m\u001b[1m \u001b[0m \u001b[1m             \u001b[0m \u001b[1m            \u001b[0m  \u001b[1m          \u001b[0m \u001b[1m \u001b[0m\u001b[1m latency\u001b[0m\u001b[1m \u001b[0m \u001b[1m          \u001b[0m \u001b[1m          \u001b[0m \u001b[1m          \u001b[0m   \n   \u001b[1m             \u001b[0m \u001b[1m \u001b[0m\u001b[1m  messages\u001b[0m\u001b[1m \u001b[0m \u001b[1m             \u001b[0m \u001b[1m            \u001b[0m  \u001b[1m          \u001b[0m \u001b[1m \u001b[0m\u001b[1m to wall\u001b[0m\u001b[1m \u001b[0m \u001b[1m \u001b[0m\u001b[1m  lag to\u001b[0m\u001b[1m \u001b[0m \u001b[1m          \u001b[0m \u001b[1m          \u001b[0m   \n   \u001b[1m             \u001b[0m \u001b[1m \u001b[0m\u001b[1m    in the\u001b[0m\u001b[1m \u001b[0m \u001b[1m             \u001b[0m \u001b[1m            \u001b[0m  \u001b[1m          \u001b[0m \u001b[1m \u001b[0m\u001b[1m   clock\u001b[0m\u001b[1m \u001b[0m \u001b[1m \u001b[0m\u001b[1m   input\u001b[0m\u001b[1m \u001b[0m \u001b[1m \u001b[0m\u001b[1m   total\u001b[0m\u001b[1m \u001b[0m \u001b[1m \u001b[0m\u001b[1m current\u001b[0m\u001b[1m \u001b[0m   \n   \u001b[1m             \u001b[0m \u001b[1m \u001b[0m\u001b[1m      last\u001b[0m\u001b[1m \u001b[0m \u001b[1m \u001b[0m\u001b[1min the last\u001b[0m\u001b[1m \u001b[0m \u001b[1m \u001b[0m\u001b[1m     since\u001b[0m\u001b[1m \u001b[0m  \u001b[1m \u001b[0m\u001b[1moperator\u001b[0m\u001b[1m \u001b[0m \u001b[1m \u001b[0m\u001b[1m    [ms]\u001b[0m\u001b[1m \u001b[0m \u001b[1m \u001b[0m\u001b[1m    [ms]\u001b[0m\u001b[1m \u001b[0m \u001b[1m \u001b[0m\u001b[1m    rows\u001b[0m\u001b[1m \u001b[0m \u001b[1m \u001b[0m\u001b[1m    rows\u001b[0m\u001b[1m \u001b[0m   \n   \u001b[1m \u001b[0m\u001b[1mconnector  \u001b[0m\u001b[1m \u001b[0m \u001b[1m \u001b[0m\u001b[1m minibatch\u001b[0m\u001b[1m \u001b[0m \u001b[1m \u001b[0m\u001b[1m     minute\u001b[0m\u001b[1m \u001b[0m \u001b[1m \u001b[0m\u001b[1m     start\u001b[0m\u001b[1m \u001b[0m  ──────────────────────────────────────────────────────   \n   ─────────────────────────────────────────────────────   input            76                                     \n    PythonRead…     finished             0          502    output          188        112                          \n    PythonRead…     finished             0          518                                                            \n    PythonRead…            0          5658        18356  \u001b[2;3m   Above you can see the latency of input and output    \u001b[0m  \n                                                         \u001b[2;3m  operators. The latency is measured as the difference  \u001b[0m  \n                                                         \u001b[2;3m between the time when the operator processed the data  \u001b[0m  \n                                                         \u001b[2;3m      and the time when pathway acquired the data.      \u001b[0m  \n                                                                                                                   \n                                                                                                                   \n                                                                                                                   \n                                                                                                                   \n                                                                                                                   \n                                                                                                                   \n                                                                                                                   \n                                                                                                                   \n                                                                                                                   \n                                                                                                                   \n                                                                                                                   \n                                                                                                                   \n                                                                                                                   \n                                                                                                                   \n                                                                                                                   \n                                                                                                                   \n                                                                                                                   \n                                                                                                                   \n                                                                                                                   \n                                                                                                                   \n                                                                                                                   \n                                                                                                                   \n                                                                                                                   \n                                                                                                                   \n                                                                                                                   \n                                                                                                                   \n                                                                                                                   \n                                                                                                                   \n                                                                                                                   \n                                                                                                                   \n                                                                                                                   \n                                                                                                                   \n                                                                                                                   \n                                                                                                                   \n                                                                                                                   \n                                                                                                                   \n                                                       LOGS                                                        \n  \u001b[2;36m[07/08/25 03:29:33]\u001b[0m\u001b[2;36m \u001b[0m\u001b[33mWARNING \u001b[0m PythonReader: Closing the data source                                               \n  \u001b[2;36m                   \u001b[0m\u001b[2;36m \u001b[0m\u001b[33mWARNING \u001b[0m PythonReader: Closing the data source                                               \n  \u001b[2;36m                   \u001b[0m\u001b[2;36m \u001b[0m\u001b[33mWARNING \u001b[0m PythonReader: Closing the data source                                               \n                                                                                                                   \n                                                                                                                   \n                                                                                                                   \n                                                                                                                   \n                                                                                                                   \n                                                                                                                   \n                                                                                                                   \n                                                                                                                   \n                                                                                                                   \n                                                                                                                   \n                                                                                                                   \n                                                                                                                   \n                                                                                                                   \n                                                                                                                   \n                                                                                                                   \n                                                                                                                   \n                                                                                                                   \n                                                                                                                   \n                                                                                                                   \n                                                                                                                   \n                                                                                                                   \n                                                                                                                   \n                                                                                                                   \n                                                                                                                   \n                                                                                                                   \n                                                                                                                   \n                                                                                                                   \n                                                                                                                   \n                                                                                                                   \n                                                                                                                   \n                                                                                                                   \n                                                                                                                   \n                                                                                                                   \n                                                                                                                   \n                                                                                                                   \n                                                                                                                   \n                                                                                                                   \n                                                                                                                   \n                                                                                                                   \n                                                                                                                   \n                                                                                                                   \n                                                                                                                   \n                                                                                                                   \n                                                                                                                   \n                                                                                                                   \n                                                                                                                   \n"
        },
        "metadata": {},
        "output_type": "display_data"
       }
      ],
      "tabbable": null,
      "tooltip": null
     }
    },
    "5b93772370904770ba80631d56069677": {
     "model_module": "@jupyter-widgets/base",
     "model_module_version": "2.0.0",
     "model_name": "LayoutModel",
     "state": {
      "_model_module": "@jupyter-widgets/base",
      "_model_module_version": "2.0.0",
      "_model_name": "LayoutModel",
      "_view_count": null,
      "_view_module": "@jupyter-widgets/base",
      "_view_module_version": "2.0.0",
      "_view_name": "LayoutView",
      "align_content": null,
      "align_items": null,
      "align_self": null,
      "border_bottom": null,
      "border_left": null,
      "border_right": null,
      "border_top": null,
      "bottom": null,
      "display": null,
      "flex": null,
      "flex_flow": null,
      "grid_area": null,
      "grid_auto_columns": null,
      "grid_auto_flow": null,
      "grid_auto_rows": null,
      "grid_column": null,
      "grid_gap": null,
      "grid_row": null,
      "grid_template_areas": null,
      "grid_template_columns": null,
      "grid_template_rows": null,
      "height": null,
      "justify_content": null,
      "justify_items": null,
      "left": null,
      "margin": null,
      "max_height": null,
      "max_width": null,
      "min_height": null,
      "min_width": null,
      "object_fit": null,
      "object_position": null,
      "order": null,
      "overflow": null,
      "padding": null,
      "right": null,
      "top": null,
      "visibility": null,
      "width": null
     }
    }
   }
  }
 },
 "nbformat": 4,
 "nbformat_minor": 4
}
